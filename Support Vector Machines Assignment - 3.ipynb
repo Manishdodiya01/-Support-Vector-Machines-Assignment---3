{
 "cells": [
  {
   "cell_type": "markdown",
   "id": "9d384c43-6609-49ce-bdba-d18d96c1fbb2",
   "metadata": {
    "tags": []
   },
   "source": [
    "# Q1. In order to predict house price based on several characteristics, such as location, square footage, number of bedrooms, etc., you are developing an SVM regression model. Which regression metric in this situation would be the best to employ?"
   ]
  },
  {
   "cell_type": "markdown",
   "id": "a4717326-3362-469d-a509-137fc9597ca3",
   "metadata": {},
   "source": [
    "In the context of predicting house prices using an SVM regression model, the most appropriate regression metric to employ would be the **Mean Absolute Error (MAE)** or the **Root Mean Squared Error (RMSE)**.\n",
    "\n",
    "Here's a brief explanation of both metrics:\n",
    "\n",
    "1. **Mean Absolute Error (MAE):**\n",
    "   - MAE measures the average absolute differences between predicted and actual values.\n",
    "   - It gives an idea of how far off the predictions are from the actual values, but it doesn't penalize large errors as heavily.\n",
    "   - MAE is easy to understand and interpret, as it represents the average absolute difference in the units of the target variable.\n",
    "\n",
    "2. **Root Mean Squared Error (RMSE):**\n",
    "   - RMSE measures the square root of the average of squared differences between predicted and actual values.\n",
    "   - It penalizes larger errors more heavily compared to MAE, making it sensitive to outliers or large prediction errors.\n",
    "   - RMSE is useful when you want to give more weight to large errors.\n",
    "\n",
    "Choosing between MAE and RMSE depends on the specific characteristics of the problem. If you want to have a metric that is more sensitive to large errors, use RMSE. However, if you want a metric that is more robust to outliers, MAE might be a better choice.\n",
    "\n",
    "In real estate, both metrics are commonly used, but it's a good practice to report both for a comprehensive evaluation of the model's performance."
   ]
  },
  {
   "cell_type": "code",
   "execution_count": 5,
   "id": "6d74facd-b995-4f61-ae9c-8344d33f1be3",
   "metadata": {},
   "outputs": [],
   "source": [
    "import pandas  as pd\n",
    "import matplotlib.pyplot as plt\n",
    "import seaborn as sns\n",
    "from sklearn.model_selection import train_test_split\n",
    "from sklearn.svm import SVR\n",
    "model = SVR()\n",
    "\n",
    "from sklearn.model_selection import GridSearchCV"
   ]
  },
  {
   "cell_type": "code",
   "execution_count": 6,
   "id": "4ddbd5cd-2b99-4f50-8d81-461cc78da07a",
   "metadata": {},
   "outputs": [],
   "source": [
    "df = pd.read_csv(\"Bengaluru_House_Data_1.csv\")\n",
    "df1 = pd.read_csv('Bengaluru_House_Data__2.csv')"
   ]
  },
  {
   "cell_type": "code",
   "execution_count": 7,
   "id": "63a94b10-95ff-41f0-bc0e-d7f7df046fdb",
   "metadata": {},
   "outputs": [
    {
     "data": {
      "text/html": [
       "<div>\n",
       "<style scoped>\n",
       "    .dataframe tbody tr th:only-of-type {\n",
       "        vertical-align: middle;\n",
       "    }\n",
       "\n",
       "    .dataframe tbody tr th {\n",
       "        vertical-align: top;\n",
       "    }\n",
       "\n",
       "    .dataframe thead th {\n",
       "        text-align: right;\n",
       "    }\n",
       "</style>\n",
       "<table border=\"1\" class=\"dataframe\">\n",
       "  <thead>\n",
       "    <tr style=\"text-align: right;\">\n",
       "      <th></th>\n",
       "      <th>area_type</th>\n",
       "      <th>availability</th>\n",
       "      <th>location</th>\n",
       "      <th>size</th>\n",
       "      <th>society</th>\n",
       "      <th>total_sqft</th>\n",
       "      <th>bath</th>\n",
       "      <th>balcony</th>\n",
       "      <th>price</th>\n",
       "    </tr>\n",
       "  </thead>\n",
       "  <tbody>\n",
       "    <tr>\n",
       "      <th>0</th>\n",
       "      <td>Super built-up  Area</td>\n",
       "      <td>19-Dec</td>\n",
       "      <td>Electronic City Phase II</td>\n",
       "      <td>2 BHK</td>\n",
       "      <td>Coomee</td>\n",
       "      <td>1056</td>\n",
       "      <td>2.0</td>\n",
       "      <td>1.0</td>\n",
       "      <td>39.07</td>\n",
       "    </tr>\n",
       "    <tr>\n",
       "      <th>1</th>\n",
       "      <td>Plot  Area</td>\n",
       "      <td>Ready To Move</td>\n",
       "      <td>Chikka Tirupathi</td>\n",
       "      <td>4 Bedroom</td>\n",
       "      <td>Theanmp</td>\n",
       "      <td>2600</td>\n",
       "      <td>5.0</td>\n",
       "      <td>3.0</td>\n",
       "      <td>120.00</td>\n",
       "    </tr>\n",
       "    <tr>\n",
       "      <th>2</th>\n",
       "      <td>Built-up  Area</td>\n",
       "      <td>Ready To Move</td>\n",
       "      <td>Uttarahalli</td>\n",
       "      <td>3 BHK</td>\n",
       "      <td>NaN</td>\n",
       "      <td>1440</td>\n",
       "      <td>2.0</td>\n",
       "      <td>3.0</td>\n",
       "      <td>62.00</td>\n",
       "    </tr>\n",
       "    <tr>\n",
       "      <th>3</th>\n",
       "      <td>Super built-up  Area</td>\n",
       "      <td>Ready To Move</td>\n",
       "      <td>Lingadheeranahalli</td>\n",
       "      <td>3 BHK</td>\n",
       "      <td>Soiewre</td>\n",
       "      <td>1521</td>\n",
       "      <td>3.0</td>\n",
       "      <td>1.0</td>\n",
       "      <td>95.00</td>\n",
       "    </tr>\n",
       "    <tr>\n",
       "      <th>4</th>\n",
       "      <td>Super built-up  Area</td>\n",
       "      <td>Ready To Move</td>\n",
       "      <td>Kothanur</td>\n",
       "      <td>2 BHK</td>\n",
       "      <td>NaN</td>\n",
       "      <td>1200</td>\n",
       "      <td>2.0</td>\n",
       "      <td>1.0</td>\n",
       "      <td>51.00</td>\n",
       "    </tr>\n",
       "  </tbody>\n",
       "</table>\n",
       "</div>"
      ],
      "text/plain": [
       "              area_type   availability                  location       size  \\\n",
       "0  Super built-up  Area         19-Dec  Electronic City Phase II      2 BHK   \n",
       "1            Plot  Area  Ready To Move          Chikka Tirupathi  4 Bedroom   \n",
       "2        Built-up  Area  Ready To Move               Uttarahalli      3 BHK   \n",
       "3  Super built-up  Area  Ready To Move        Lingadheeranahalli      3 BHK   \n",
       "4  Super built-up  Area  Ready To Move                  Kothanur      2 BHK   \n",
       "\n",
       "   society total_sqft  bath  balcony   price  \n",
       "0  Coomee        1056   2.0      1.0   39.07  \n",
       "1  Theanmp       2600   5.0      3.0  120.00  \n",
       "2      NaN       1440   2.0      3.0   62.00  \n",
       "3  Soiewre       1521   3.0      1.0   95.00  \n",
       "4      NaN       1200   2.0      1.0   51.00  "
      ]
     },
     "execution_count": 7,
     "metadata": {},
     "output_type": "execute_result"
    }
   ],
   "source": [
    "df.head()"
   ]
  },
  {
   "cell_type": "code",
   "execution_count": 8,
   "id": "bb84fdaa-6cb1-4311-ba0c-eed9792c613d",
   "metadata": {},
   "outputs": [
    {
     "data": {
      "text/html": [
       "<div>\n",
       "<style scoped>\n",
       "    .dataframe tbody tr th:only-of-type {\n",
       "        vertical-align: middle;\n",
       "    }\n",
       "\n",
       "    .dataframe tbody tr th {\n",
       "        vertical-align: top;\n",
       "    }\n",
       "\n",
       "    .dataframe thead th {\n",
       "        text-align: right;\n",
       "    }\n",
       "</style>\n",
       "<table border=\"1\" class=\"dataframe\">\n",
       "  <thead>\n",
       "    <tr style=\"text-align: right;\">\n",
       "      <th></th>\n",
       "      <th>area_type</th>\n",
       "      <th>availability</th>\n",
       "      <th>location</th>\n",
       "      <th>size</th>\n",
       "      <th>society</th>\n",
       "      <th>total_sqft</th>\n",
       "      <th>bath</th>\n",
       "      <th>balcony</th>\n",
       "      <th>price</th>\n",
       "    </tr>\n",
       "  </thead>\n",
       "  <tbody>\n",
       "    <tr>\n",
       "      <th>0</th>\n",
       "      <td>Plot  Area</td>\n",
       "      <td>18-Mar</td>\n",
       "      <td>Choodasandra</td>\n",
       "      <td>3 Bedroom</td>\n",
       "      <td>NaN</td>\n",
       "      <td>900</td>\n",
       "      <td>4.0</td>\n",
       "      <td>3.0</td>\n",
       "      <td>155.00</td>\n",
       "    </tr>\n",
       "    <tr>\n",
       "      <th>1</th>\n",
       "      <td>Super built-up  Area</td>\n",
       "      <td>Ready To Move</td>\n",
       "      <td>Kengeri Hobli</td>\n",
       "      <td>3 BHK</td>\n",
       "      <td>NaN</td>\n",
       "      <td>1082</td>\n",
       "      <td>2.0</td>\n",
       "      <td>0.0</td>\n",
       "      <td>42.00</td>\n",
       "    </tr>\n",
       "    <tr>\n",
       "      <th>2</th>\n",
       "      <td>Super built-up  Area</td>\n",
       "      <td>Ready To Move</td>\n",
       "      <td>Uttarahalli</td>\n",
       "      <td>3 BHK</td>\n",
       "      <td>NaN</td>\n",
       "      <td>1350</td>\n",
       "      <td>2.0</td>\n",
       "      <td>3.0</td>\n",
       "      <td>47.24</td>\n",
       "    </tr>\n",
       "    <tr>\n",
       "      <th>3</th>\n",
       "      <td>Super built-up  Area</td>\n",
       "      <td>17-Dec</td>\n",
       "      <td>Kadugodi</td>\n",
       "      <td>2 BHK</td>\n",
       "      <td>Alestrb</td>\n",
       "      <td>1314</td>\n",
       "      <td>2.0</td>\n",
       "      <td>2.0</td>\n",
       "      <td>78.00</td>\n",
       "    </tr>\n",
       "    <tr>\n",
       "      <th>4</th>\n",
       "      <td>Super built-up  Area</td>\n",
       "      <td>18-May</td>\n",
       "      <td>Maithri Layout</td>\n",
       "      <td>2 BHK</td>\n",
       "      <td>NaN</td>\n",
       "      <td>1290</td>\n",
       "      <td>2.0</td>\n",
       "      <td>3.0</td>\n",
       "      <td>40.63</td>\n",
       "    </tr>\n",
       "  </tbody>\n",
       "</table>\n",
       "</div>"
      ],
      "text/plain": [
       "              area_type   availability        location       size  society  \\\n",
       "0            Plot  Area         18-Mar    Choodasandra  3 Bedroom      NaN   \n",
       "1  Super built-up  Area  Ready To Move   Kengeri Hobli      3 BHK      NaN   \n",
       "2  Super built-up  Area  Ready To Move     Uttarahalli      3 BHK      NaN   \n",
       "3  Super built-up  Area         17-Dec        Kadugodi      2 BHK  Alestrb   \n",
       "4  Super built-up  Area         18-May  Maithri Layout      2 BHK      NaN   \n",
       "\n",
       "  total_sqft  bath  balcony   price  \n",
       "0        900   4.0      3.0  155.00  \n",
       "1       1082   2.0      0.0   42.00  \n",
       "2       1350   2.0      3.0   47.24  \n",
       "3       1314   2.0      2.0   78.00  \n",
       "4       1290   2.0      3.0   40.63  "
      ]
     },
     "execution_count": 8,
     "metadata": {},
     "output_type": "execute_result"
    }
   ],
   "source": [
    "df1.head()"
   ]
  },
  {
   "cell_type": "code",
   "execution_count": 9,
   "id": "6f2b1794-b2cf-4580-bc63-7fbf4ab5ced8",
   "metadata": {},
   "outputs": [
    {
     "data": {
      "text/html": [
       "<div>\n",
       "<style scoped>\n",
       "    .dataframe tbody tr th:only-of-type {\n",
       "        vertical-align: middle;\n",
       "    }\n",
       "\n",
       "    .dataframe tbody tr th {\n",
       "        vertical-align: top;\n",
       "    }\n",
       "\n",
       "    .dataframe thead th {\n",
       "        text-align: right;\n",
       "    }\n",
       "</style>\n",
       "<table border=\"1\" class=\"dataframe\">\n",
       "  <thead>\n",
       "    <tr style=\"text-align: right;\">\n",
       "      <th></th>\n",
       "      <th>area_type</th>\n",
       "      <th>availability</th>\n",
       "      <th>location</th>\n",
       "      <th>size</th>\n",
       "      <th>society</th>\n",
       "      <th>total_sqft</th>\n",
       "      <th>bath</th>\n",
       "      <th>balcony</th>\n",
       "      <th>price</th>\n",
       "    </tr>\n",
       "  </thead>\n",
       "  <tbody>\n",
       "    <tr>\n",
       "      <th>0</th>\n",
       "      <td>Super built-up  Area</td>\n",
       "      <td>19-Dec</td>\n",
       "      <td>Electronic City Phase II</td>\n",
       "      <td>2 BHK</td>\n",
       "      <td>Coomee</td>\n",
       "      <td>1056</td>\n",
       "      <td>2.0</td>\n",
       "      <td>1.0</td>\n",
       "      <td>39.07</td>\n",
       "    </tr>\n",
       "    <tr>\n",
       "      <th>1</th>\n",
       "      <td>Plot  Area</td>\n",
       "      <td>Ready To Move</td>\n",
       "      <td>Chikka Tirupathi</td>\n",
       "      <td>4 Bedroom</td>\n",
       "      <td>Theanmp</td>\n",
       "      <td>2600</td>\n",
       "      <td>5.0</td>\n",
       "      <td>3.0</td>\n",
       "      <td>120.00</td>\n",
       "    </tr>\n",
       "    <tr>\n",
       "      <th>2</th>\n",
       "      <td>Built-up  Area</td>\n",
       "      <td>Ready To Move</td>\n",
       "      <td>Uttarahalli</td>\n",
       "      <td>3 BHK</td>\n",
       "      <td>NaN</td>\n",
       "      <td>1440</td>\n",
       "      <td>2.0</td>\n",
       "      <td>3.0</td>\n",
       "      <td>62.00</td>\n",
       "    </tr>\n",
       "    <tr>\n",
       "      <th>3</th>\n",
       "      <td>Super built-up  Area</td>\n",
       "      <td>Ready To Move</td>\n",
       "      <td>Lingadheeranahalli</td>\n",
       "      <td>3 BHK</td>\n",
       "      <td>Soiewre</td>\n",
       "      <td>1521</td>\n",
       "      <td>3.0</td>\n",
       "      <td>1.0</td>\n",
       "      <td>95.00</td>\n",
       "    </tr>\n",
       "    <tr>\n",
       "      <th>4</th>\n",
       "      <td>Super built-up  Area</td>\n",
       "      <td>Ready To Move</td>\n",
       "      <td>Kothanur</td>\n",
       "      <td>2 BHK</td>\n",
       "      <td>NaN</td>\n",
       "      <td>1200</td>\n",
       "      <td>2.0</td>\n",
       "      <td>1.0</td>\n",
       "      <td>51.00</td>\n",
       "    </tr>\n",
       "  </tbody>\n",
       "</table>\n",
       "</div>"
      ],
      "text/plain": [
       "              area_type   availability                  location       size  \\\n",
       "0  Super built-up  Area         19-Dec  Electronic City Phase II      2 BHK   \n",
       "1            Plot  Area  Ready To Move          Chikka Tirupathi  4 Bedroom   \n",
       "2        Built-up  Area  Ready To Move               Uttarahalli      3 BHK   \n",
       "3  Super built-up  Area  Ready To Move        Lingadheeranahalli      3 BHK   \n",
       "4  Super built-up  Area  Ready To Move                  Kothanur      2 BHK   \n",
       "\n",
       "   society total_sqft  bath  balcony   price  \n",
       "0  Coomee        1056   2.0      1.0   39.07  \n",
       "1  Theanmp       2600   5.0      3.0  120.00  \n",
       "2      NaN       1440   2.0      3.0   62.00  \n",
       "3  Soiewre       1521   3.0      1.0   95.00  \n",
       "4      NaN       1200   2.0      1.0   51.00  "
      ]
     },
     "execution_count": 9,
     "metadata": {},
     "output_type": "execute_result"
    }
   ],
   "source": [
    "combine_df = pd.concat([df , df1] , axis=0 , ignore_index=True)\n",
    "\n",
    "combine_df.head()"
   ]
  },
  {
   "cell_type": "code",
   "execution_count": 10,
   "id": "79c08232-af2e-4292-ae0e-414595bb6981",
   "metadata": {},
   "outputs": [
    {
     "data": {
      "text/plain": [
       "area_type          0\n",
       "availability       0\n",
       "location           1\n",
       "size              16\n",
       "society         5502\n",
       "total_sqft         0\n",
       "bath              73\n",
       "balcony          609\n",
       "price              0\n",
       "dtype: int64"
      ]
     },
     "execution_count": 10,
     "metadata": {},
     "output_type": "execute_result"
    }
   ],
   "source": [
    "combine_df.isnull().sum()"
   ]
  },
  {
   "cell_type": "code",
   "execution_count": 11,
   "id": "e6aa2dc6-c551-48cd-81a2-b306ace9d40d",
   "metadata": {},
   "outputs": [
    {
     "data": {
      "text/plain": [
       "array([ 1.,  3., nan,  2.,  0.])"
      ]
     },
     "execution_count": 11,
     "metadata": {},
     "output_type": "execute_result"
    }
   ],
   "source": [
    "combine_df.balcony.unique()"
   ]
  },
  {
   "cell_type": "code",
   "execution_count": 12,
   "id": "0730f6f7-17c6-472f-96ba-14e3ff6ea690",
   "metadata": {},
   "outputs": [
    {
     "data": {
      "text/plain": [
       "area_type          0\n",
       "availability       0\n",
       "location           1\n",
       "size              16\n",
       "society         5502\n",
       "total_sqft         0\n",
       "bath               0\n",
       "balcony            0\n",
       "price              0\n",
       "dtype: int64"
      ]
     },
     "execution_count": 12,
     "metadata": {},
     "output_type": "execute_result"
    }
   ],
   "source": [
    "combine_df['balcony'].fillna(combine_df['balcony'].median() , inplace=True)\n",
    "\n",
    "combine_df['location'].dropna(inplace=True)\n",
    "\n",
    "combine_df['bath'].fillna(combine_df['bath'].median() , inplace=True)\n",
    "combine_df.isnull().sum()"
   ]
  },
  {
   "cell_type": "code",
   "execution_count": 13,
   "id": "8ad90683-76a9-41dc-b7d9-da4ccf7695fd",
   "metadata": {},
   "outputs": [],
   "source": [
    "from sklearn.preprocessing import LabelEncoder\n",
    "\n",
    "encoder_area = LabelEncoder()\n",
    "encoder_availability = LabelEncoder()\n",
    "encoder_location = LabelEncoder()\n",
    "encoder_size = LabelEncoder()\n",
    "\n",
    "combine_df['area_type_2'] = encoder_area.fit_transform(combine_df['area_type'])\n",
    "combine_df['availability_2'] = encoder_area.fit_transform(combine_df['availability'])\n",
    "combine_df['location_2'] = encoder_area.fit_transform(combine_df['location'])\n",
    "combine_df['size_2'] = encoder_area.fit_transform(combine_df['size'])\n",
    "\n",
    "from sklearn.preprocessing import LabelEncoder\n",
    "l_en = LabelEncoder()\n",
    "\n",
    "combine_df['total_sqrt_2'] = l_en.fit_transform(combine_df['total_sqft'])"
   ]
  },
  {
   "cell_type": "code",
   "execution_count": 14,
   "id": "eb4ebdb9-caff-4409-a1d3-1565e79ea9c5",
   "metadata": {},
   "outputs": [
    {
     "data": {
      "text/plain": [
       "area_type            0\n",
       "availability         0\n",
       "location             1\n",
       "size                16\n",
       "society           5502\n",
       "total_sqft           0\n",
       "bath                 0\n",
       "balcony              0\n",
       "price                0\n",
       "area_type_2          0\n",
       "availability_2       0\n",
       "location_2           0\n",
       "size_2               0\n",
       "total_sqrt_2         0\n",
       "dtype: int64"
      ]
     },
     "execution_count": 14,
     "metadata": {},
     "output_type": "execute_result"
    }
   ],
   "source": [
    "combine_df.isnull().sum()"
   ]
  },
  {
   "cell_type": "code",
   "execution_count": 15,
   "id": "2be1059d-4fd7-4123-a308-0177ca9f240b",
   "metadata": {},
   "outputs": [],
   "source": [
    "x = combine_df.drop(['price','area_type' , \"availability\" , \"location\" , \"size\" , 'society' , 'total_sqft'] , axis=1)\n",
    "\n",
    "y = combine_df.price\n"
   ]
  },
  {
   "cell_type": "code",
   "execution_count": 16,
   "id": "24118e8a-3c03-4442-b7f5-7f889db95231",
   "metadata": {},
   "outputs": [
    {
     "data": {
      "text/html": [
       "<style>#sk-container-id-1 {color: black;background-color: white;}#sk-container-id-1 pre{padding: 0;}#sk-container-id-1 div.sk-toggleable {background-color: white;}#sk-container-id-1 label.sk-toggleable__label {cursor: pointer;display: block;width: 100%;margin-bottom: 0;padding: 0.3em;box-sizing: border-box;text-align: center;}#sk-container-id-1 label.sk-toggleable__label-arrow:before {content: \"▸\";float: left;margin-right: 0.25em;color: #696969;}#sk-container-id-1 label.sk-toggleable__label-arrow:hover:before {color: black;}#sk-container-id-1 div.sk-estimator:hover label.sk-toggleable__label-arrow:before {color: black;}#sk-container-id-1 div.sk-toggleable__content {max-height: 0;max-width: 0;overflow: hidden;text-align: left;background-color: #f0f8ff;}#sk-container-id-1 div.sk-toggleable__content pre {margin: 0.2em;color: black;border-radius: 0.25em;background-color: #f0f8ff;}#sk-container-id-1 input.sk-toggleable__control:checked~div.sk-toggleable__content {max-height: 200px;max-width: 100%;overflow: auto;}#sk-container-id-1 input.sk-toggleable__control:checked~label.sk-toggleable__label-arrow:before {content: \"▾\";}#sk-container-id-1 div.sk-estimator input.sk-toggleable__control:checked~label.sk-toggleable__label {background-color: #d4ebff;}#sk-container-id-1 div.sk-label input.sk-toggleable__control:checked~label.sk-toggleable__label {background-color: #d4ebff;}#sk-container-id-1 input.sk-hidden--visually {border: 0;clip: rect(1px 1px 1px 1px);clip: rect(1px, 1px, 1px, 1px);height: 1px;margin: -1px;overflow: hidden;padding: 0;position: absolute;width: 1px;}#sk-container-id-1 div.sk-estimator {font-family: monospace;background-color: #f0f8ff;border: 1px dotted black;border-radius: 0.25em;box-sizing: border-box;margin-bottom: 0.5em;}#sk-container-id-1 div.sk-estimator:hover {background-color: #d4ebff;}#sk-container-id-1 div.sk-parallel-item::after {content: \"\";width: 100%;border-bottom: 1px solid gray;flex-grow: 1;}#sk-container-id-1 div.sk-label:hover label.sk-toggleable__label {background-color: #d4ebff;}#sk-container-id-1 div.sk-serial::before {content: \"\";position: absolute;border-left: 1px solid gray;box-sizing: border-box;top: 0;bottom: 0;left: 50%;z-index: 0;}#sk-container-id-1 div.sk-serial {display: flex;flex-direction: column;align-items: center;background-color: white;padding-right: 0.2em;padding-left: 0.2em;position: relative;}#sk-container-id-1 div.sk-item {position: relative;z-index: 1;}#sk-container-id-1 div.sk-parallel {display: flex;align-items: stretch;justify-content: center;background-color: white;position: relative;}#sk-container-id-1 div.sk-item::before, #sk-container-id-1 div.sk-parallel-item::before {content: \"\";position: absolute;border-left: 1px solid gray;box-sizing: border-box;top: 0;bottom: 0;left: 50%;z-index: -1;}#sk-container-id-1 div.sk-parallel-item {display: flex;flex-direction: column;z-index: 1;position: relative;background-color: white;}#sk-container-id-1 div.sk-parallel-item:first-child::after {align-self: flex-end;width: 50%;}#sk-container-id-1 div.sk-parallel-item:last-child::after {align-self: flex-start;width: 50%;}#sk-container-id-1 div.sk-parallel-item:only-child::after {width: 0;}#sk-container-id-1 div.sk-dashed-wrapped {border: 1px dashed gray;margin: 0 0.4em 0.5em 0.4em;box-sizing: border-box;padding-bottom: 0.4em;background-color: white;}#sk-container-id-1 div.sk-label label {font-family: monospace;font-weight: bold;display: inline-block;line-height: 1.2em;}#sk-container-id-1 div.sk-label-container {text-align: center;}#sk-container-id-1 div.sk-container {/* jupyter's `normalize.less` sets `[hidden] { display: none; }` but bootstrap.min.css set `[hidden] { display: none !important; }` so we also need the `!important` here to be able to override the default hidden behavior on the sphinx rendered scikit-learn.org. See: https://github.com/scikit-learn/scikit-learn/issues/21755 */display: inline-block !important;position: relative;}#sk-container-id-1 div.sk-text-repr-fallback {display: none;}</style><div id=\"sk-container-id-1\" class=\"sk-top-container\"><div class=\"sk-text-repr-fallback\"><pre>SVR()</pre><b>In a Jupyter environment, please rerun this cell to show the HTML representation or trust the notebook. <br />On GitHub, the HTML representation is unable to render, please try loading this page with nbviewer.org.</b></div><div class=\"sk-container\" hidden><div class=\"sk-item\"><div class=\"sk-estimator sk-toggleable\"><input class=\"sk-toggleable__control sk-hidden--visually\" id=\"sk-estimator-id-1\" type=\"checkbox\" checked><label for=\"sk-estimator-id-1\" class=\"sk-toggleable__label sk-toggleable__label-arrow\">SVR</label><div class=\"sk-toggleable__content\"><pre>SVR()</pre></div></div></div></div></div>"
      ],
      "text/plain": [
       "SVR()"
      ]
     },
     "execution_count": 16,
     "metadata": {},
     "output_type": "execute_result"
    }
   ],
   "source": [
    "X_train, X_test, y_train, y_test = train_test_split(x,y,test_size=0.20)\n",
    "\n",
    "r_model = SVR(kernel='rbf')\n",
    "\n",
    "r_model.fit(X_train , y_train)"
   ]
  },
  {
   "cell_type": "code",
   "execution_count": null,
   "id": "8038b531-4e08-468f-8d0e-4386be4a56b8",
   "metadata": {},
   "outputs": [],
   "source": []
  },
  {
   "cell_type": "code",
   "execution_count": null,
   "id": "3d2906b0-1363-4bbb-a614-ffa5da1ccd32",
   "metadata": {},
   "outputs": [],
   "source": []
  },
  {
   "cell_type": "code",
   "execution_count": null,
   "id": "b427455a-9fbf-4c56-85cc-fd969d81ab0b",
   "metadata": {},
   "outputs": [],
   "source": []
  },
  {
   "cell_type": "markdown",
   "id": "41c0a8c9-dc1f-45f9-bb77-03fcca9c9dd8",
   "metadata": {
    "jp-MarkdownHeadingCollapsed": true,
    "tags": []
   },
   "source": [
    "# Q2. You have built an SVM regression model and are trying to decide between using MSE or R-squared as your evaluation metric. Which metric would be more appropriate if your goal is to predict the actual price of a house as accurately as possible?"
   ]
  },
  {
   "cell_type": "code",
   "execution_count": 13,
   "id": "4b5b1aee-5864-44ec-bed4-6376f3834ca7",
   "metadata": {},
   "outputs": [
    {
     "name": "stdout",
     "output_type": "stream",
     "text": [
      "16385.686754444283\n",
      "-14.168457659390114\n"
     ]
    }
   ],
   "source": [
    "q2_model = SVR(kernel='rbf')\n",
    "\n",
    "\n",
    "q2_model.fit(X_train , y_train)\n",
    "y_pred = q2_model.predict(X_test)\n",
    "\n",
    "from sklearn.metrics import mean_squared_error , r2_score\n",
    "\n",
    "print(mean_squared_error(y_pred , y_test))\n",
    "\n",
    "print(r2_score(y_pred , y_test))"
   ]
  },
  {
   "cell_type": "markdown",
   "id": "f9dffe41-071e-40a9-9b7e-0f5f592ce770",
   "metadata": {},
   "source": [
    "If your goal is to predict the actual price of a house as accurately as possible, then **Mean Squared Error (MSE)** would be the more appropriate evaluation metric.\n",
    "\n",
    "Here's why:\n",
    "\n",
    "1. **Mean Squared Error (MSE):**\n",
    "   - MSE measures the average of the squared differences between predicted and actual values.\n",
    "   - It gives more weight to larger errors, which means it penalizes large deviations from the actual values more heavily.\n",
    "   - In the context of house price prediction, it's crucial to minimize large prediction errors, as a significant difference between the predicted and actual price can have a substantial impact on the buyer or seller.\n",
    "\n",
    "2. **R-squared (Coefficient of Determination):**\n",
    "   - R-squared measures the proportion of the variance in the dependent variable (house prices) that is predictable from the independent variables (features).\n",
    "   - While R-squared is a valuable metric for understanding the proportion of variability explained by the model, it doesn't directly measure prediction accuracy in terms of absolute price values.\n",
    "\n",
    "Since your primary goal is to predict the actual price of a house as accurately as possible, you want to minimize the error in your predictions. MSE directly reflects this objective.\n",
    "\n",
    "```python\n",
    "from sklearn.metrics import mean_squared_error\n",
    "\n",
    "# Assuming y_true and y_pred are your actual and predicted house prices\n",
    "mse = mean_squared_error(y_true, y_pred)\n",
    "\n",
    "print(f'MSE: {mse}')\n",
    "```\n",
    "\n",
    "Remember that while R-squared is important for understanding the goodness of fit of your model, it might not be the best metric when the absolute accuracy of predictions is the top priority."
   ]
  },
  {
   "cell_type": "markdown",
   "id": "cf49358a-61f0-4451-a95a-d5ba97d6953b",
   "metadata": {
    "jp-MarkdownHeadingCollapsed": true,
    "tags": []
   },
   "source": [
    "# Q3. You have a dataset with a significant number of outliers and are trying to select an appropriate regression metric to use with your SVM model. Which metric would be the most appropriate in this scenario?"
   ]
  },
  {
   "cell_type": "code",
   "execution_count": 14,
   "id": "5ea05238-64f2-41a4-8a3b-f008fe9f5133",
   "metadata": {},
   "outputs": [
    {
     "name": "stdout",
     "output_type": "stream",
     "text": [
      "48.83646544682976\n"
     ]
    }
   ],
   "source": [
    "from sklearn.metrics import mean_absolute_error\n",
    "\n",
    "print(mean_absolute_error(y_pred , y_test))"
   ]
  },
  {
   "cell_type": "markdown",
   "id": "0d3ce0e0-ec92-4cb7-a14b-9d661b4c2d66",
   "metadata": {},
   "source": [
    "Mean Absolute Error (MAE):\n",
    "MAE measures the average absolute differences between predicted and actual values.\n",
    "It is less sensitive to outliers compared to metrics like Mean Squared Error (MSE) or Root Mean Squared Error (RMSE).\n",
    "Since MAE does not square the errors, it doesn't overly penalize large deviations from the actual values, making it more robust in the presence of outliers.\n"
   ]
  },
  {
   "cell_type": "markdown",
   "id": "20758889-602b-4d63-90f9-d2a1cf04be95",
   "metadata": {
    "jp-MarkdownHeadingCollapsed": true,
    "tags": []
   },
   "source": [
    "# Q4. You have built an SVM regression model using a polynomial kernel and are trying to select the best metric to evaluate its performance. You have calculated both MSE and RMSE and found that both values are very close. Which metric should you choose to use in this case?"
   ]
  },
  {
   "cell_type": "markdown",
   "id": "1169b17a-86b1-411b-b55c-310d06545621",
   "metadata": {},
   "source": [
    "If you have built an SVM regression model using a polynomial kernel and found that both Mean Squared Error (MSE) and Root Mean Squared Error (RMSE) are very close, it indicates that the errors are fairly evenly distributed across the data points. In this scenario, it is advisable to choose the Root Mean Squared Error (RMSE) over MSE."
   ]
  },
  {
   "cell_type": "markdown",
   "id": "58c11038-3a5b-4679-98a2-3de4edc5b32f",
   "metadata": {},
   "source": [
    "Root Mean Squared Error (RMSE):\n",
    "\n",
    "RMSE is essentially the square root of MSE. It measures the average of the squared differences between predicted and actual values, and then takes the square root of that average.\n",
    "RMSE penalizes larger errors more heavily than smaller errors. This makes it more sensitive to outliers or large prediction errors.\n",
    "In cases where the differences between predicted and actual values are fairly evenly distributed, RMSE provides a slightly more nuanced view of the model's performance.\n",
    "Mean Squared Error (MSE):\n",
    "\n",
    "MSE measures the average of the squared differences between predicted and actual values, without taking the square root.\n",
    "It provides a measure of the overall variance of the errors, but does not provide a direct interpretation of the size of the errors."
   ]
  },
  {
   "cell_type": "code",
   "execution_count": 15,
   "id": "31ea747e-6ec9-4c84-b859-8ef7871f97f6",
   "metadata": {},
   "outputs": [
    {
     "name": "stdout",
     "output_type": "stream",
     "text": [
      "MSE : {18634.09305883111}\n",
      "RMSE : {136.50675096430618}\n"
     ]
    }
   ],
   "source": [
    "q4_model = SVR(kernel='poly')\n",
    "\n",
    "q4_model.fit(X_train , y_train)\n",
    "\n",
    "q4_pred = q4_model.predict(X_test)\n",
    "\n",
    "mse = mean_squared_error(q4_pred , y_test)\n",
    "\n",
    "import numpy as np\n",
    "rmse = np.sqrt(mse)\n",
    "\n",
    "print(f\"MSE :\" , {mse})\n",
    "print(f\"RMSE :\" , {rmse})\n"
   ]
  },
  {
   "cell_type": "markdown",
   "id": "6305a1e3-e00d-433e-b44e-3fda4fb15510",
   "metadata": {},
   "source": [
    "# Q5. You are comparing the performance of different SVM regression models using different kernels (linear, polynomial, and RBF) and are trying to select the best evaluation metric. Which metric would be most appropriate if your goal is to measure how well the model explains the variance in the target variable?"
   ]
  },
  {
   "cell_type": "markdown",
   "id": "f15272fb-cb75-4e1d-80c9-bdd8f40c58cc",
   "metadata": {},
   "source": [
    "If your goal is to measure how well the model explains the variance in the target variable, then the most appropriate evaluation metric to use would be the Coefficient of Determination (R-squared).\n",
    "\n",
    "Here's why:\n",
    "\n",
    "Coefficient of Determination (R-squared):\n",
    "R-squared measures the proportion of the variance in the dependent variable (target variable) that is predictable from the independent variables (features).\n",
    "It provides an indication of how well the model fits the data. A higher R-squared value indicates a better fit.\n",
    "R-squared values range from 0 to 1, with 1 indicating a perfect fit where all variability in the target variable is explained by the model.\n",
    "In the context of comparing SVM regression models with different kernels (linear, polynomial, and RBF), using R-squared allows you to assess how well each model captures the variance in the target variable."
   ]
  },
  {
   "cell_type": "code",
   "execution_count": 18,
   "id": "8942cada-6ffe-4c70-bd1f-b4b34c2570ac",
   "metadata": {},
   "outputs": [
    {
     "data": {
      "text/html": [
       "<style>#sk-container-id-3 {color: black;background-color: white;}#sk-container-id-3 pre{padding: 0;}#sk-container-id-3 div.sk-toggleable {background-color: white;}#sk-container-id-3 label.sk-toggleable__label {cursor: pointer;display: block;width: 100%;margin-bottom: 0;padding: 0.3em;box-sizing: border-box;text-align: center;}#sk-container-id-3 label.sk-toggleable__label-arrow:before {content: \"▸\";float: left;margin-right: 0.25em;color: #696969;}#sk-container-id-3 label.sk-toggleable__label-arrow:hover:before {color: black;}#sk-container-id-3 div.sk-estimator:hover label.sk-toggleable__label-arrow:before {color: black;}#sk-container-id-3 div.sk-toggleable__content {max-height: 0;max-width: 0;overflow: hidden;text-align: left;background-color: #f0f8ff;}#sk-container-id-3 div.sk-toggleable__content pre {margin: 0.2em;color: black;border-radius: 0.25em;background-color: #f0f8ff;}#sk-container-id-3 input.sk-toggleable__control:checked~div.sk-toggleable__content {max-height: 200px;max-width: 100%;overflow: auto;}#sk-container-id-3 input.sk-toggleable__control:checked~label.sk-toggleable__label-arrow:before {content: \"▾\";}#sk-container-id-3 div.sk-estimator input.sk-toggleable__control:checked~label.sk-toggleable__label {background-color: #d4ebff;}#sk-container-id-3 div.sk-label input.sk-toggleable__control:checked~label.sk-toggleable__label {background-color: #d4ebff;}#sk-container-id-3 input.sk-hidden--visually {border: 0;clip: rect(1px 1px 1px 1px);clip: rect(1px, 1px, 1px, 1px);height: 1px;margin: -1px;overflow: hidden;padding: 0;position: absolute;width: 1px;}#sk-container-id-3 div.sk-estimator {font-family: monospace;background-color: #f0f8ff;border: 1px dotted black;border-radius: 0.25em;box-sizing: border-box;margin-bottom: 0.5em;}#sk-container-id-3 div.sk-estimator:hover {background-color: #d4ebff;}#sk-container-id-3 div.sk-parallel-item::after {content: \"\";width: 100%;border-bottom: 1px solid gray;flex-grow: 1;}#sk-container-id-3 div.sk-label:hover label.sk-toggleable__label {background-color: #d4ebff;}#sk-container-id-3 div.sk-serial::before {content: \"\";position: absolute;border-left: 1px solid gray;box-sizing: border-box;top: 0;bottom: 0;left: 50%;z-index: 0;}#sk-container-id-3 div.sk-serial {display: flex;flex-direction: column;align-items: center;background-color: white;padding-right: 0.2em;padding-left: 0.2em;position: relative;}#sk-container-id-3 div.sk-item {position: relative;z-index: 1;}#sk-container-id-3 div.sk-parallel {display: flex;align-items: stretch;justify-content: center;background-color: white;position: relative;}#sk-container-id-3 div.sk-item::before, #sk-container-id-3 div.sk-parallel-item::before {content: \"\";position: absolute;border-left: 1px solid gray;box-sizing: border-box;top: 0;bottom: 0;left: 50%;z-index: -1;}#sk-container-id-3 div.sk-parallel-item {display: flex;flex-direction: column;z-index: 1;position: relative;background-color: white;}#sk-container-id-3 div.sk-parallel-item:first-child::after {align-self: flex-end;width: 50%;}#sk-container-id-3 div.sk-parallel-item:last-child::after {align-self: flex-start;width: 50%;}#sk-container-id-3 div.sk-parallel-item:only-child::after {width: 0;}#sk-container-id-3 div.sk-dashed-wrapped {border: 1px dashed gray;margin: 0 0.4em 0.5em 0.4em;box-sizing: border-box;padding-bottom: 0.4em;background-color: white;}#sk-container-id-3 div.sk-label label {font-family: monospace;font-weight: bold;display: inline-block;line-height: 1.2em;}#sk-container-id-3 div.sk-label-container {text-align: center;}#sk-container-id-3 div.sk-container {/* jupyter's `normalize.less` sets `[hidden] { display: none; }` but bootstrap.min.css set `[hidden] { display: none !important; }` so we also need the `!important` here to be able to override the default hidden behavior on the sphinx rendered scikit-learn.org. See: https://github.com/scikit-learn/scikit-learn/issues/21755 */display: inline-block !important;position: relative;}#sk-container-id-3 div.sk-text-repr-fallback {display: none;}</style><div id=\"sk-container-id-3\" class=\"sk-top-container\"><div class=\"sk-text-repr-fallback\"><pre>SVR(kernel=&#x27;poly&#x27;)</pre><b>In a Jupyter environment, please rerun this cell to show the HTML representation or trust the notebook. <br />On GitHub, the HTML representation is unable to render, please try loading this page with nbviewer.org.</b></div><div class=\"sk-container\" hidden><div class=\"sk-item\"><div class=\"sk-estimator sk-toggleable\"><input class=\"sk-toggleable__control sk-hidden--visually\" id=\"sk-estimator-id-3\" type=\"checkbox\" checked><label for=\"sk-estimator-id-3\" class=\"sk-toggleable__label sk-toggleable__label-arrow\">SVR</label><div class=\"sk-toggleable__content\"><pre>SVR(kernel=&#x27;poly&#x27;)</pre></div></div></div></div></div>"
      ],
      "text/plain": [
       "SVR(kernel='poly')"
      ]
     },
     "execution_count": 18,
     "metadata": {},
     "output_type": "execute_result"
    }
   ],
   "source": [
    "from sklearn.svm import SVR\n",
    "from sklearn.model_selection import GridSearchCV\n",
    "from sklearn.preprocessing import StandardScaler\n",
    "from sklearn.model_selection import train_test_split\n",
    "\n",
    "X_train, X_test, y_train, y_test = train_test_split(x,y,test_size=0.30 , random_state=42)\n",
    "\n",
    "s_scaler = StandardScaler()\n",
    "X_train_scaled = s_scaler.fit_transform(X_train)\n",
    "X_test_scaled = s_scaler.transform(X_test)\n",
    "\n",
    "q5_svr_model = SVR(kernel='poly')\n",
    "\n",
    "q5_svr_model.fit(X_train_scaled , y_train)"
   ]
  },
  {
   "cell_type": "code",
   "execution_count": 28,
   "id": "c596aa26-40d1-4087-8f15-4e809564bbe8",
   "metadata": {},
   "outputs": [
    {
     "name": "stderr",
     "output_type": "stream",
     "text": [
      "/opt/conda/lib/python3.10/site-packages/sklearn/base.py:402: UserWarning: X has feature names, but SVR was fitted without feature names\n",
      "  warnings.warn(\n"
     ]
    },
    {
     "name": "stdout",
     "output_type": "stream",
     "text": [
      "MAE 1891559405.0555675\n",
      "MSR 1.1085187440965087e+19\n",
      "r2 -0.0009177555504140678\n"
     ]
    }
   ],
   "source": [
    "from sklearn.metrics import mean_absolute_error , r2_score , mean_squared_error\n",
    "\n",
    "y_pred = q5_svr_model.predict(X_test)\n",
    "\n",
    "\n",
    "mae = mean_absolute_error(y_pred , y_test)\n",
    "msr = mean_squared_error(y_pred , y_test)\n",
    "r2 = r2_score(y_pred , y_test)\n",
    "\n",
    "\n",
    "print(\"MAE\" , mae)\n",
    "print(\"MSR\" , msr)\n",
    "print(\"r2\" , r2)"
   ]
  },
  {
   "cell_type": "markdown",
   "id": "284821fd-9aaa-4534-b53d-ddd95f9285b7",
   "metadata": {},
   "source": [
    "If your goal is to measure how well the model explains the variance in the target variable, then the most appropriate evaluation metric would be the **Coefficient of Determination (R-squared)**.\n",
    "\n",
    "R-squared is a statistical measure that represents the proportion of the variance in the dependent variable that is predictable from the independent variables. It ranges from 0 to 1, where 1 indicates that the model perfectly explains the variance, and 0 indicates that the model does not explain any of the variance.\n",
    "\n",
    "In the context of SVM regression models, you can use R-squared to assess how well the model captures the variation in the target variable. A higher R-squared value indicates a better fit.\n",
    "\n",
    "Keep in mind that while R-squared is a valuable metric for assessing how well the model explains the variance, it's important to also consider other metrics (such as Mean Absolute Error, Mean Squared Error, etc.) to get a comprehensive understanding of the model's performance."
   ]
  },
  {
   "cell_type": "code",
   "execution_count": null,
   "id": "1cdeaf58-e73c-48b8-b9bc-9c704ac87bb3",
   "metadata": {},
   "outputs": [],
   "source": []
  }
 ],
 "metadata": {
  "kernelspec": {
   "display_name": "Python 3 (ipykernel)",
   "language": "python",
   "name": "python3"
  },
  "language_info": {
   "codemirror_mode": {
    "name": "ipython",
    "version": 3
   },
   "file_extension": ".py",
   "mimetype": "text/x-python",
   "name": "python",
   "nbconvert_exporter": "python",
   "pygments_lexer": "ipython3",
   "version": "3.10.8"
  }
 },
 "nbformat": 4,
 "nbformat_minor": 5
}
